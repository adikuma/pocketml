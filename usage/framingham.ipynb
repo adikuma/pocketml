{
 "cells": [
  {
   "cell_type": "code",
   "execution_count": 1,
   "id": "d39f757c",
   "metadata": {},
   "outputs": [],
   "source": [
    "import pandas as pd\n",
    "import numpy as np\n",
    "import sys\n",
    "import os\n",
    "sys.path.append(os.path.abspath(os.path.join(os.getcwd(), '../..')))\n",
    "from pocketml.preprocessing.scaler import StandardScaler\n",
    "from pocketml.preprocessing.split import train_test_split\n",
    "from pocketml.linear_model.logistic_regression import LogisticRegression\n",
    "from pocketml.metrics.classification import accuracy_score\n",
    "\n",
    "# load framingham.csv\n",
    "df = pd.read_csv(\"datasets/framingham.csv\")\n",
    "df.dropna(inplace=True)\n",
    "\n",
    "# features and label\n",
    "X = df.drop(\"TenYearCHD\", axis=1).values\n",
    "y = df[\"TenYearCHD\"].values"
   ]
  },
  {
   "cell_type": "code",
   "execution_count": 2,
   "id": "691f4fc0",
   "metadata": {},
   "outputs": [
    {
     "name": "stdout",
     "output_type": "stream",
     "text": [
      "accuracy: 0.8623518687329079\n"
     ]
    }
   ],
   "source": [
    "# split and standardize\n",
    "X_train, X_test, y_train, y_test = train_test_split(\n",
    "    X, y, test_size=0.3, random_state=0\n",
    ")\n",
    "scaler = StandardScaler().fit(X_train)\n",
    "X_train = scaler.transform(X_train)\n",
    "X_test  = scaler.transform(X_test)\n",
    "\n",
    "# train\n",
    "model = LogisticRegression(lr=0.001, n_iters=5000)\n",
    "model.fit(X_train, y_train)\n",
    "\n",
    "# predict and evaluate\n",
    "y_pred = model.predict(X_test)\n",
    "print(\"accuracy:\", accuracy_score(y_test, y_pred))"
   ]
  }
 ],
 "metadata": {
  "kernelspec": {
   "display_name": "venv",
   "language": "python",
   "name": "python3"
  },
  "language_info": {
   "codemirror_mode": {
    "name": "ipython",
    "version": 3
   },
   "file_extension": ".py",
   "mimetype": "text/x-python",
   "name": "python",
   "nbconvert_exporter": "python",
   "pygments_lexer": "ipython3",
   "version": "3.11.5"
  }
 },
 "nbformat": 4,
 "nbformat_minor": 5
}
