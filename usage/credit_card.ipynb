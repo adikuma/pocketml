{
 "cells": [
  {
   "cell_type": "code",
   "execution_count": 1,
   "id": "f4b15a40",
   "metadata": {},
   "outputs": [],
   "source": [
    "import pandas as pd\n",
    "import sys\n",
    "import os\n",
    "import numpy as np\n",
    "sys.path.append(os.path.abspath(os.path.join(os.getcwd(), '../..')))\n",
    "from pocketml.preprocessing.split import train_test_split\n",
    "from pocketml.anomaly.gaussian_anomaly import GaussianAnomalyDetector\n",
    "from pocketml.metrics.classification import classification_report\n",
    "\n",
    "# load creditcard.csv\n",
    "df = pd.read_csv(\"datasets/creditcard.csv\")\n",
    "X = df.drop([\"Time\",\"Class\"], axis=1).values\n",
    "y = df[\"Class\"].values\n",
    "\n",
    "# split normals and anomalies\n",
    "X_norm = X[y==0]\n",
    "X_ano  = X[y==1]\n",
    "y_norm = y[y==0]\n",
    "y_ano  = y[y==1]"
   ]
  },
  {
   "cell_type": "code",
   "execution_count": 3,
   "id": "d1ef479a",
   "metadata": {},
   "outputs": [
    {
     "name": "stdout",
     "output_type": "stream",
     "text": [
      "              precision    recall  f1-score   support\n",
      "\n",
      "      normal       1.00      0.99      0.99     56863\n",
      "       fraud       0.34      0.63      0.44       492\n",
      "\n",
      "    accuracy                           0.99     57355\n",
      "   macro avg       0.67      0.81      0.72     57355\n",
      "weighted avg       0.99      0.99      0.99     57355\n",
      "\n"
     ]
    }
   ],
   "source": [
    "# train/test split on normals only\n",
    "Xn_tr, Xn_te, _, _ = train_test_split(X_norm, y_norm,\n",
    "                                      test_size=0.2, random_state=0)\n",
    "# build test set = held-out normals + all anomalies\n",
    "X_test = np.vstack([Xn_te, X_ano])\n",
    "y_test = np.hstack([np.zeros(len(Xn_te)), np.ones(len(X_ano))])\n",
    "\n",
    "# fit detector and predict\n",
    "detector = GaussianAnomalyDetector(percentile=1).fit(Xn_tr)\n",
    "y_pred   = detector.predict(X_test)\n",
    "\n",
    "print(classification_report(y_test, y_pred, target_names=[\"normal\",\"fraud\"]))"
   ]
  },
  {
   "cell_type": "code",
   "execution_count": null,
   "id": "5d367efc",
   "metadata": {},
   "outputs": [],
   "source": []
  }
 ],
 "metadata": {
  "kernelspec": {
   "display_name": "venv",
   "language": "python",
   "name": "python3"
  },
  "language_info": {
   "codemirror_mode": {
    "name": "ipython",
    "version": 3
   },
   "file_extension": ".py",
   "mimetype": "text/x-python",
   "name": "python",
   "nbconvert_exporter": "python",
   "pygments_lexer": "ipython3",
   "version": "3.11.5"
  }
 },
 "nbformat": 4,
 "nbformat_minor": 5
}
